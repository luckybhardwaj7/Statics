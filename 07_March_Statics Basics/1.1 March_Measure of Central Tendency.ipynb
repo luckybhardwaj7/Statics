{
 "cells": [
  {
   "cell_type": "markdown",
   "id": "7c551529-52bc-4495-9d50-632e85dfea04",
   "metadata": {},
   "source": [
    "# Measure of Central Tendency (Mean, Median ,Mode)"
   ]
  },
  {
   "cell_type": "markdown",
   "id": "a4f30f12-b6c7-4ba4-a903-8f9d5a40b441",
   "metadata": {},
   "source": [
    "### Mean(Average)"
   ]
  },
  {
   "cell_type": "code",
   "execution_count": 8,
   "id": "cf29dff8-75cd-4804-aa9a-5dbf150aeb11",
   "metadata": {},
   "outputs": [],
   "source": [
    "\n",
    "age=[12,21,23,45,65,43,56,45,32,67,54,34]"
   ]
  },
  {
   "cell_type": "code",
   "execution_count": 9,
   "id": "81d0bee5-adc0-46c9-af5b-68156c81cb13",
   "metadata": {},
   "outputs": [
    {
     "data": {
      "text/plain": [
       "41.416666666666664"
      ]
     },
     "execution_count": 9,
     "metadata": {},
     "output_type": "execute_result"
    }
   ],
   "source": [
    "import numpy as np\n",
    "np.mean(age)"
   ]
  },
  {
   "cell_type": "code",
   "execution_count": 10,
   "id": "8d8ea88d-a2ef-4358-aaa2-2bbf78c7da95",
   "metadata": {},
   "outputs": [
    {
     "data": {
      "text/plain": [
       "65.3076923076923"
      ]
     },
     "execution_count": 10,
     "metadata": {},
     "output_type": "execute_result"
    }
   ],
   "source": [
    "weight=[56,65,78,54,78,44,89,75,34,56,65,67,88]\n",
    "np.mean(weight)"
   ]
  },
  {
   "cell_type": "code",
   "execution_count": 13,
   "id": "9616343e-7e7c-4e59-bd0d-64e9b70d37ba",
   "metadata": {},
   "outputs": [],
   "source": [
    "# Calculating the Mean from the data \n",
    "import seaborn as sns\n",
    "df=sns.load_dataset('tips')"
   ]
  },
  {
   "cell_type": "code",
   "execution_count": 14,
   "id": "e0aba8b7-9af5-463e-b37a-a8a3466ae26e",
   "metadata": {},
   "outputs": [
    {
     "data": {
      "text/html": [
       "<div>\n",
       "<style scoped>\n",
       "    .dataframe tbody tr th:only-of-type {\n",
       "        vertical-align: middle;\n",
       "    }\n",
       "\n",
       "    .dataframe tbody tr th {\n",
       "        vertical-align: top;\n",
       "    }\n",
       "\n",
       "    .dataframe thead th {\n",
       "        text-align: right;\n",
       "    }\n",
       "</style>\n",
       "<table border=\"1\" class=\"dataframe\">\n",
       "  <thead>\n",
       "    <tr style=\"text-align: right;\">\n",
       "      <th></th>\n",
       "      <th>total_bill</th>\n",
       "      <th>tip</th>\n",
       "      <th>sex</th>\n",
       "      <th>smoker</th>\n",
       "      <th>day</th>\n",
       "      <th>time</th>\n",
       "      <th>size</th>\n",
       "    </tr>\n",
       "  </thead>\n",
       "  <tbody>\n",
       "    <tr>\n",
       "      <th>0</th>\n",
       "      <td>16.99</td>\n",
       "      <td>1.01</td>\n",
       "      <td>Female</td>\n",
       "      <td>No</td>\n",
       "      <td>Sun</td>\n",
       "      <td>Dinner</td>\n",
       "      <td>2</td>\n",
       "    </tr>\n",
       "    <tr>\n",
       "      <th>1</th>\n",
       "      <td>10.34</td>\n",
       "      <td>1.66</td>\n",
       "      <td>Male</td>\n",
       "      <td>No</td>\n",
       "      <td>Sun</td>\n",
       "      <td>Dinner</td>\n",
       "      <td>3</td>\n",
       "    </tr>\n",
       "    <tr>\n",
       "      <th>2</th>\n",
       "      <td>21.01</td>\n",
       "      <td>3.50</td>\n",
       "      <td>Male</td>\n",
       "      <td>No</td>\n",
       "      <td>Sun</td>\n",
       "      <td>Dinner</td>\n",
       "      <td>3</td>\n",
       "    </tr>\n",
       "    <tr>\n",
       "      <th>3</th>\n",
       "      <td>23.68</td>\n",
       "      <td>3.31</td>\n",
       "      <td>Male</td>\n",
       "      <td>No</td>\n",
       "      <td>Sun</td>\n",
       "      <td>Dinner</td>\n",
       "      <td>2</td>\n",
       "    </tr>\n",
       "    <tr>\n",
       "      <th>4</th>\n",
       "      <td>24.59</td>\n",
       "      <td>3.61</td>\n",
       "      <td>Female</td>\n",
       "      <td>No</td>\n",
       "      <td>Sun</td>\n",
       "      <td>Dinner</td>\n",
       "      <td>4</td>\n",
       "    </tr>\n",
       "  </tbody>\n",
       "</table>\n",
       "</div>"
      ],
      "text/plain": [
       "   total_bill   tip     sex smoker  day    time  size\n",
       "0       16.99  1.01  Female     No  Sun  Dinner     2\n",
       "1       10.34  1.66    Male     No  Sun  Dinner     3\n",
       "2       21.01  3.50    Male     No  Sun  Dinner     3\n",
       "3       23.68  3.31    Male     No  Sun  Dinner     2\n",
       "4       24.59  3.61  Female     No  Sun  Dinner     4"
      ]
     },
     "execution_count": 14,
     "metadata": {},
     "output_type": "execute_result"
    }
   ],
   "source": [
    "df.head()"
   ]
  },
  {
   "cell_type": "code",
   "execution_count": 15,
   "id": "43ee89e2-a7dc-4283-84d8-fa76687a4905",
   "metadata": {},
   "outputs": [
    {
     "data": {
      "text/plain": [
       "19.78594262295082"
      ]
     },
     "execution_count": 15,
     "metadata": {},
     "output_type": "execute_result"
    }
   ],
   "source": [
    "np.mean(df['total_bill'])"
   ]
  },
  {
   "cell_type": "markdown",
   "id": "e4a8e853-7aee-4761-8f5a-4c1720ed22e2",
   "metadata": {},
   "source": [
    "### Median"
   ]
  },
  {
   "cell_type": "code",
   "execution_count": 17,
   "id": "2535a45b-0bfc-45e9-959b-5229c4ddc1e5",
   "metadata": {},
   "outputs": [
    {
     "data": {
      "text/plain": [
       "[12, 21, 23, 45, 65, 43, 56, 45, 32, 67, 54, 34]"
      ]
     },
     "execution_count": 17,
     "metadata": {},
     "output_type": "execute_result"
    }
   ],
   "source": [
    "age"
   ]
  },
  {
   "cell_type": "code",
   "execution_count": 18,
   "id": "fac356f3-d048-46c4-9433-e54af7a57199",
   "metadata": {},
   "outputs": [
    {
     "data": {
      "text/plain": [
       "[56, 65, 78, 54, 78, 44, 89, 75, 34, 56, 65, 67, 88]"
      ]
     },
     "execution_count": 18,
     "metadata": {},
     "output_type": "execute_result"
    }
   ],
   "source": [
    "weight"
   ]
  },
  {
   "cell_type": "code",
   "execution_count": 16,
   "id": "5f72e203-6a96-4de7-a6c4-0429cf08e750",
   "metadata": {},
   "outputs": [
    {
     "data": {
      "text/plain": [
       "44.0"
      ]
     },
     "execution_count": 16,
     "metadata": {},
     "output_type": "execute_result"
    }
   ],
   "source": [
    "np.median(age)"
   ]
  },
  {
   "cell_type": "code",
   "execution_count": 21,
   "id": "c84ff0ea-3198-4613-b463-48476f96ed40",
   "metadata": {},
   "outputs": [],
   "source": [
    "# Median with Outlier\n",
    "age=[12, 21, 23, 45, 65, 43, 56, 45, 32, 67, 54, 34,200] # Here 200 is outliers"
   ]
  },
  {
   "cell_type": "code",
   "execution_count": 22,
   "id": "ee083e8e-15bc-44f6-a603-bf97aa1effe9",
   "metadata": {},
   "outputs": [
    {
     "data": {
      "text/plain": [
       "53.61538461538461"
      ]
     },
     "execution_count": 22,
     "metadata": {},
     "output_type": "execute_result"
    }
   ],
   "source": [
    "np.mean(age)"
   ]
  },
  {
   "cell_type": "code",
   "execution_count": 27,
   "id": "cfb78f64-6fc3-4ede-947b-786d157df928",
   "metadata": {},
   "outputs": [
    {
     "data": {
      "text/plain": [
       "45.0"
      ]
     },
     "execution_count": 27,
     "metadata": {},
     "output_type": "execute_result"
    }
   ],
   "source": [
    "np.median(age) # mean is shifted a lot where median is just shifted by 1 \n",
    "# Median is used where outliers are present"
   ]
  },
  {
   "cell_type": "code",
   "execution_count": 29,
   "id": "9754c4d8-90bc-4fd0-988a-03a965dc92ef",
   "metadata": {},
   "outputs": [
    {
     "data": {
      "text/plain": [
       "17.795"
      ]
     },
     "execution_count": 29,
     "metadata": {},
     "output_type": "execute_result"
    }
   ],
   "source": [
    "np.median(df['total_bill'])"
   ]
  },
  {
   "cell_type": "markdown",
   "id": "dfa08330-a523-4c43-b178-5dcf9af9b0db",
   "metadata": {},
   "source": [
    "### Mode"
   ]
  },
  {
   "cell_type": "code",
   "execution_count": 24,
   "id": "84f8f14d-2ca9-4c6e-a938-86c2853bcd0b",
   "metadata": {},
   "outputs": [],
   "source": [
    "from scipy import stats"
   ]
  },
  {
   "cell_type": "code",
   "execution_count": 26,
   "id": "dce36c85-a40e-4d28-8fad-6b5440940bca",
   "metadata": {},
   "outputs": [
    {
     "name": "stderr",
     "output_type": "stream",
     "text": [
      "/tmp/ipykernel_135/2474845003.py:1: FutureWarning: Unlike other reduction functions (e.g. `skew`, `kurtosis`), the default behavior of `mode` typically preserves the axis it acts along. In SciPy 1.11.0, this behavior will change: the default value of `keepdims` will become False, the `axis` over which the statistic is taken will be eliminated, and the value None will no longer be accepted. Set `keepdims` to True or False to avoid this warning.\n",
      "  stats.mode(age)\n"
     ]
    },
    {
     "data": {
      "text/plain": [
       "ModeResult(mode=array([45]), count=array([2]))"
      ]
     },
     "execution_count": 26,
     "metadata": {},
     "output_type": "execute_result"
    }
   ],
   "source": [
    "stats.mode(age)\n",
    "# Data with the maximum occurance"
   ]
  },
  {
   "cell_type": "code",
   "execution_count": null,
   "id": "f68c0540-4e3d-41a1-9209-78909e3ab358",
   "metadata": {},
   "outputs": [],
   "source": []
  }
 ],
 "metadata": {
  "kernelspec": {
   "display_name": "Python 3 (ipykernel)",
   "language": "python",
   "name": "python3"
  },
  "language_info": {
   "codemirror_mode": {
    "name": "ipython",
    "version": 3
   },
   "file_extension": ".py",
   "mimetype": "text/x-python",
   "name": "python",
   "nbconvert_exporter": "python",
   "pygments_lexer": "ipython3",
   "version": "3.10.8"
  }
 },
 "nbformat": 4,
 "nbformat_minor": 5
}
