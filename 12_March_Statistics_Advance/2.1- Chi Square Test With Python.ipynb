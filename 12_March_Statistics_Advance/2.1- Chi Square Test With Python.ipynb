{
 "cells": [
  {
   "cell_type": "markdown",
   "id": "4908cc2b-846b-4c87-82a6-e64f2fdfdb53",
   "metadata": {},
   "source": [
    "# Chi Square Test With Python"
   ]
  },
  {
   "cell_type": "code",
   "execution_count": 1,
   "id": "316f20d8-905b-4846-bf19-3423269b87aa",
   "metadata": {},
   "outputs": [],
   "source": [
    "import scipy.stats as stat\n",
    "import numpy as np"
   ]
  },
  {
   "cell_type": "code",
   "execution_count": 3,
   "id": "1cc73a43-3c87-4e5e-b67d-2fc873a6c1cf",
   "metadata": {},
   "outputs": [],
   "source": [
    "# Asks the Warden how much hours the Students Study in a weekly basis daily\n",
    "expected_data=[8,6,7,9,6,9,7]\n",
    "observed_data=[7,8,6,9,9,6,7]"
   ]
  },
  {
   "cell_type": "markdown",
   "id": "288a4bc8-d8f0-49bb-b36f-ef23ad9fecae",
   "metadata": {},
   "source": [
    "### Chi Square Godness of Fit Test "
   ]
  },
  {
   "cell_type": "code",
   "execution_count": 4,
   "id": "adc62e6d-6422-48b8-87f3-3b7ee8063316",
   "metadata": {},
   "outputs": [],
   "source": [
    "# Apply the Test\n",
    "chisquare_test_statistic,p_value=stat.chisquare(observed_data,expected_data)"
   ]
  },
  {
   "cell_type": "code",
   "execution_count": 5,
   "id": "4c798b8a-e64a-4052-85f9-5f0281e282a8",
   "metadata": {},
   "outputs": [
    {
     "data": {
      "text/plain": [
       "(3.4345238095238093, 0.7526596580922865)"
      ]
     },
     "execution_count": 5,
     "metadata": {},
     "output_type": "execute_result"
    }
   ],
   "source": [
    "chisquare_test_statistic,p_value"
   ]
  },
  {
   "cell_type": "code",
   "execution_count": 12,
   "id": "38fd38f5-4864-45db-8906-7c4bc3fdfda0",
   "metadata": {},
   "outputs": [],
   "source": [
    "## Find the critical Value\n",
    "significance_value=0.05\n",
    "dof=len(expected_data)-1 # dof is Degree Of Freedome\n",
    "critical_value=stat.chi2.ppf(1-significance_value,dof) \n",
    "# (1-significance_value) will give Confidence Interval and second perameter is Degree of Freedom"
   ]
  },
  {
   "cell_type": "code",
   "execution_count": 13,
   "id": "6249d600-cab4-4119-928a-5c276a467ca3",
   "metadata": {},
   "outputs": [
    {
     "data": {
      "text/plain": [
       "12.591587243743977"
      ]
     },
     "execution_count": 13,
     "metadata": {},
     "output_type": "execute_result"
    }
   ],
   "source": [
    "critical_value"
   ]
  },
  {
   "cell_type": "code",
   "execution_count": 14,
   "id": "b21fe38c-0221-45a0-96cd-f32784a63840",
   "metadata": {},
   "outputs": [
    {
     "name": "stdout",
     "output_type": "stream",
     "text": [
      "We fail to Reject the Null Hypothesis\n"
     ]
    }
   ],
   "source": [
    "if chisquare_test_statistic>critical_value:\n",
    "    print('We Reject The Null Hypothesis')\n",
    "else:\n",
    "    print('We fail to Reject the Null Hypothesis')"
   ]
  },
  {
   "cell_type": "code",
   "execution_count": null,
   "id": "2101a6a1-c72f-459e-896e-2a5ba493dddb",
   "metadata": {},
   "outputs": [],
   "source": []
  }
 ],
 "metadata": {
  "kernelspec": {
   "display_name": "Python 3 (ipykernel)",
   "language": "python",
   "name": "python3"
  },
  "language_info": {
   "codemirror_mode": {
    "name": "ipython",
    "version": 3
   },
   "file_extension": ".py",
   "mimetype": "text/x-python",
   "name": "python",
   "nbconvert_exporter": "python",
   "pygments_lexer": "ipython3",
   "version": "3.10.8"
  }
 },
 "nbformat": 4,
 "nbformat_minor": 5
}
