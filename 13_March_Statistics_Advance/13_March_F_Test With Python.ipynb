{
 "cells": [
  {
   "cell_type": "markdown",
   "id": "208a1cd2-b1fa-4d3a-930b-b78e2a066771",
   "metadata": {},
   "source": [
    "# F Test with Python"
   ]
  },
  {
   "cell_type": "code",
   "execution_count": 1,
   "id": "ba6a9038-a7ac-47a6-9709-d89cf68fd978",
   "metadata": {},
   "outputs": [],
   "source": [
    "# Number of bulbs produced by the workers in a factory are given below\n",
    "worker1=[18,19,22,25,27,28,41,45,51,55]\n",
    "worker2=[14,15,15,17,18,22,25,25,27,34]"
   ]
  },
  {
   "cell_type": "markdown",
   "id": "cd7a5822-27f5-4412-b668-0395300b3d32",
   "metadata": {},
   "source": [
    "### Calculating F-Test"
   ]
  },
  {
   "cell_type": "code",
   "execution_count": 2,
   "id": "6e39fd85-7eb6-4729-a298-d549aa077e08",
   "metadata": {},
   "outputs": [],
   "source": [
    "import numpy as np"
   ]
  },
  {
   "cell_type": "code",
   "execution_count": 5,
   "id": "9813d235-8c8c-4546-a228-949773f77f18",
   "metadata": {},
   "outputs": [],
   "source": [
    "f_test=np.var(worker1)/np.var(worker2)"
   ]
  },
  {
   "cell_type": "code",
   "execution_count": 6,
   "id": "0b446b85-40fe-4ca9-af22-6c1e619a0a4f",
   "metadata": {},
   "outputs": [
    {
     "data": {
      "text/plain": [
       "4.387122002085506"
      ]
     },
     "execution_count": 6,
     "metadata": {},
     "output_type": "execute_result"
    }
   ],
   "source": [
    "f_test"
   ]
  },
  {
   "cell_type": "code",
   "execution_count": 9,
   "id": "9fdf6470-8bf4-469f-a4aa-1c5a599146dd",
   "metadata": {},
   "outputs": [],
   "source": [
    "# Degree of Freedom\n",
    "df1=len(worker1)-1\n",
    "df2=len(worker2)-1\n",
    "significance_value=0.05"
   ]
  },
  {
   "cell_type": "code",
   "execution_count": 10,
   "id": "980b41bd-9187-4838-ab6e-edca7f14f46b",
   "metadata": {},
   "outputs": [],
   "source": [
    "import scipy.stats as stat"
   ]
  },
  {
   "cell_type": "code",
   "execution_count": 12,
   "id": "e86e786c-1f63-4fca-82fc-42e6db2c2769",
   "metadata": {},
   "outputs": [],
   "source": [
    "critical_value=stat.f.ppf(q=1-significance_value,dfn=df1,dfd=df2)"
   ]
  },
  {
   "cell_type": "code",
   "execution_count": 13,
   "id": "2068bac2-2c54-4822-b884-51f71b005276",
   "metadata": {},
   "outputs": [
    {
     "data": {
      "text/plain": [
       "3.178893104458269"
      ]
     },
     "execution_count": 13,
     "metadata": {},
     "output_type": "execute_result"
    }
   ],
   "source": [
    "critical_value"
   ]
  },
  {
   "cell_type": "code",
   "execution_count": 14,
   "id": "d06bc12f-e37c-45a3-b5d9-cc35e7b4cd5a",
   "metadata": {},
   "outputs": [
    {
     "name": "stdout",
     "output_type": "stream",
     "text": [
      "Reject the Null Hypothesis\n"
     ]
    }
   ],
   "source": [
    "if f_test>critical_value:\n",
    "    print('Reject the Null Hypothesis')\n",
    "else:\n",
    "    print('Fail to Reject the Null Hypothesis')"
   ]
  },
  {
   "cell_type": "code",
   "execution_count": null,
   "id": "ab42b7ea-ed91-4993-ba16-35a3423a1fd8",
   "metadata": {},
   "outputs": [],
   "source": []
  }
 ],
 "metadata": {
  "kernelspec": {
   "display_name": "Python 3 (ipykernel)",
   "language": "python",
   "name": "python3"
  },
  "language_info": {
   "codemirror_mode": {
    "name": "ipython",
    "version": 3
   },
   "file_extension": ".py",
   "mimetype": "text/x-python",
   "name": "python",
   "nbconvert_exporter": "python",
   "pygments_lexer": "ipython3",
   "version": "3.10.8"
  }
 },
 "nbformat": 4,
 "nbformat_minor": 5
}
